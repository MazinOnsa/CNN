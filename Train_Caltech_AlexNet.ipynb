{
  "nbformat": 4,
  "nbformat_minor": 0,
  "metadata": {
    "colab": {
      "name": "Full_Mazin_HW2.ipynb",
      "provenance": [],
      "collapsed_sections": [],
      "include_colab_link": true
    },
    "kernelspec": {
      "name": "python3",
      "display_name": "Python 3"
    },
    "accelerator": "GPU"
  },
  "cells": [
    {
      "cell_type": "markdown",
      "metadata": {
        "id": "view-in-github",
        "colab_type": "text"
      },
      "source": [
        "<a href=\"https://colab.research.google.com/github/MazinOnsa/CNN/blob/master/Train_Caltech_AlexNet.ipynb\" target=\"_parent\"><img src=\"https://colab.research.google.com/assets/colab-badge.svg\" alt=\"Open In Colab\"/></a>"
      ]
    },
    {
      "cell_type": "markdown",
      "metadata": {
        "id": "ySrHUbnkL9ln"
      },
      "source": [
        "                 بسم الله الرحمن الرحيم\n",
        "\n",
        "\n",
        "\n",
        "\n",
        "---\n",
        "\n",
        "\n",
        "*In God we trust, all others should bring Data*\n",
        "# Training Caltech 101 on AlexNet\n",
        "\n"
      ]
    },
    {
      "cell_type": "markdown",
      "metadata": {
        "id": "c9QcGnGPdX2C"
      },
      "source": [
        "\n",
        "**Install requirements**"
      ]
    },
    {
      "cell_type": "code",
      "metadata": {
        "id": "k9O3aM3Tb28q",
        "colab": {
          "base_uri": "https://localhost:8080/",
          "height": 748
        },
        "outputId": "f451cfce-8366-4134-e257-3f2cd9c9a2ca"
      },
      "source": [
        "!pip3 install 'torch==1.3.1'\n",
        "!pip3 install 'torchvision==0.5.0'\n",
        "!pip3 install 'Pillow-SIMD'\n",
        "!pip3 install 'tqdm'"
      ],
      "execution_count": null,
      "outputs": [
        {
          "output_type": "stream",
          "text": [
            "Collecting torch==1.3.1\n",
            "\u001b[?25l  Downloading https://files.pythonhosted.org/packages/88/95/90e8c4c31cfc67248bf944ba42029295b77159982f532c5689bcfe4e9108/torch-1.3.1-cp36-cp36m-manylinux1_x86_64.whl (734.6MB)\n",
            "\u001b[K     |████████████████████████████████| 734.6MB 22kB/s \n",
            "\u001b[?25hRequirement already satisfied: numpy in /usr/local/lib/python3.6/dist-packages (from torch==1.3.1) (1.18.5)\n",
            "\u001b[31mERROR: torchvision 0.7.0+cu101 has requirement torch==1.6.0, but you'll have torch 1.3.1 which is incompatible.\u001b[0m\n",
            "Installing collected packages: torch\n",
            "  Found existing installation: torch 1.6.0+cu101\n",
            "    Uninstalling torch-1.6.0+cu101:\n",
            "      Successfully uninstalled torch-1.6.0+cu101\n",
            "Successfully installed torch-1.3.1\n",
            "Collecting torchvision==0.5.0\n",
            "\u001b[?25l  Downloading https://files.pythonhosted.org/packages/7e/90/6141bf41f5655c78e24f40f710fdd4f8a8aff6c8b7c6f0328240f649bdbe/torchvision-0.5.0-cp36-cp36m-manylinux1_x86_64.whl (4.0MB)\n",
            "\u001b[K     |████████████████████████████████| 4.0MB 4.7MB/s \n",
            "\u001b[?25hCollecting torch==1.4.0\n",
            "\u001b[?25l  Downloading https://files.pythonhosted.org/packages/24/19/4804aea17cd136f1705a5e98a00618cb8f6ccc375ad8bfa437408e09d058/torch-1.4.0-cp36-cp36m-manylinux1_x86_64.whl (753.4MB)\n",
            "\u001b[K     |████████████████████████████████| 753.4MB 10kB/s \n",
            "\u001b[?25hRequirement already satisfied: six in /usr/local/lib/python3.6/dist-packages (from torchvision==0.5.0) (1.15.0)\n",
            "Requirement already satisfied: pillow>=4.1.1 in /usr/local/lib/python3.6/dist-packages (from torchvision==0.5.0) (7.0.0)\n",
            "Requirement already satisfied: numpy in /usr/local/lib/python3.6/dist-packages (from torchvision==0.5.0) (1.18.5)\n",
            "Installing collected packages: torch, torchvision\n",
            "  Found existing installation: torch 1.3.1\n",
            "    Uninstalling torch-1.3.1:\n",
            "      Successfully uninstalled torch-1.3.1\n",
            "  Found existing installation: torchvision 0.7.0+cu101\n",
            "    Uninstalling torchvision-0.7.0+cu101:\n",
            "      Successfully uninstalled torchvision-0.7.0+cu101\n",
            "Successfully installed torch-1.4.0 torchvision-0.5.0\n",
            "Collecting Pillow-SIMD\n",
            "\u001b[?25l  Downloading https://files.pythonhosted.org/packages/a0/6a/30d21c886293cca3755b8e55de34137a5068b77eba1c0644d3632080516b/Pillow-SIMD-7.0.0.post3.tar.gz (630kB)\n",
            "\u001b[K     |████████████████████████████████| 634kB 4.9MB/s \n",
            "\u001b[?25hBuilding wheels for collected packages: Pillow-SIMD\n",
            "  Building wheel for Pillow-SIMD (setup.py) ... \u001b[?25l\u001b[?25hdone\n",
            "  Created wheel for Pillow-SIMD: filename=Pillow_SIMD-7.0.0.post3-cp36-cp36m-linux_x86_64.whl size=1110225 sha256=ce70bfa45f3afa98917ff566c5929698f9facd5cd4c711176c145978c2a8050e\n",
            "  Stored in directory: /root/.cache/pip/wheels/d3/ac/4f/4cdf8febba528e5f1b09fc58d5181e1c12ed1e8655dcd583b8\n",
            "Successfully built Pillow-SIMD\n",
            "Installing collected packages: Pillow-SIMD\n",
            "Successfully installed Pillow-SIMD-7.0.0.post3\n"
          ],
          "name": "stdout"
        },
        {
          "output_type": "display_data",
          "data": {
            "application/vnd.colab-display-data+json": {
              "pip_warning": {
                "packages": [
                  "PIL"
                ]
              }
            }
          },
          "metadata": {
            "tags": []
          }
        },
        {
          "output_type": "stream",
          "text": [
            "Requirement already satisfied: tqdm in /usr/local/lib/python3.6/dist-packages (4.41.1)\n"
          ],
          "name": "stdout"
        }
      ]
    },
    {
      "cell_type": "markdown",
      "metadata": {
        "id": "fo942LMOdlh4"
      },
      "source": [
        "**Import libraries**"
      ]
    },
    {
      "cell_type": "code",
      "metadata": {
        "id": "DokFOdD1dJEl"
      },
      "source": [
        "import os\n",
        "import logging\n",
        "\n",
        "import torch\n",
        "import torch.nn as nn\n",
        "import torch.optim as optim\n",
        "from torch.utils.data import Subset, DataLoader\n",
        "#i can use DataLoader without above import directly\n",
        "#trainloader=torch.utils.data.Dataloader(train,batch...) \n",
        "from torch.backends import cudnn\n",
        "\n",
        "import torchvision\n",
        "from torchvision import transforms # transform images to pytoch tensors\n",
        "from torchvision.models import alexnet #click ctrl to see the alexnet\n",
        "\n",
        "from PIL import Image\n",
        "from tqdm import tqdm"
      ],
      "execution_count": null,
      "outputs": []
    },
    {
      "cell_type": "markdown",
      "metadata": {
        "id": "OIDLJuIXK_vh"
      },
      "source": [
        "**Set Arguments**"
      ]
    },
    {
      "cell_type": "code",
      "metadata": {
        "id": "d5PkYfqfK_SA"
      },
      "source": [
        "DEVICE = 'cuda' # 'cuda' or 'cpu'\n",
        "\n",
        "NUM_CLASSES = 102 # 101 + 1: There is am extra Background class that should be removed \n",
        "\n",
        "BATCH_SIZE = 256     # Higher batch sizes allows for larger learning rates. An empirical heuristic suggests that, when changing\n",
        "                     # the batch size, learning rate should change by the same factor to have comparable results\n",
        "\n",
        "LR = 1e-3            # The initial Learning Rate\n",
        "MOMENTUM = 0.9       # Hyperparameter for SGD, keep this at 0.9 when using SGD\n",
        "WEIGHT_DECAY = 5e-5  # Regularization, you can keep this at the default\n",
        "\n",
        "NUM_EPOCHS = 30      # Total number of training epochs (iterations over dataset)\n",
        "STEP_SIZE = 20       # How many epochs before decreasing learning rate (if using a step-down policy)\n",
        "GAMMA = 0.1          # Multiplicative factor for learning rate step-down\n",
        "\n",
        "LOG_FREQUENCY = 10"
      ],
      "execution_count": null,
      "outputs": []
    },
    {
      "cell_type": "markdown",
      "metadata": {
        "id": "9gwii0TBHvzh"
      },
      "source": [
        "**Define Data Preprocessing**"
      ]
    },
    {
      "cell_type": "code",
      "metadata": {
        "id": "QUDdw4j2H0Mc"
      },
      "source": [
        "# Define transforms for training phase\n",
        "train_transform = transforms.Compose([transforms.Resize(256),      # Resizes short size of the PIL image to 256\n",
        "                                      transforms.CenterCrop(224),  # Crops a central square patch of the image\n",
        "                                                                   # 224 because torchvision's AlexNet needs a 224x224 input!\n",
        "                                                                   # Remember this when applying different transformations, otherwise you get an error\n",
        "                                      transforms.ToTensor(), # Turn PIL Image to torch.Tensor\n",
        "                                      transforms.Normalize((0.5, 0.5, 0.5), (0.5, 0.5, 0.5)) # Normalizes tensor with mean and standard deviation\n",
        "])\n",
        "# Define transforms for the evaluation phase\n",
        "eval_transform = transforms.Compose([transforms.Resize(256),\n",
        "                                      transforms.CenterCrop(224),\n",
        "                                      transforms.ToTensor(),\n",
        "                                      transforms.Normalize((0.5, 0.5, 0.5), (0.5, 0.5, 0.5))                                    \n",
        "])\n",
        "\n",
        "val_transform = transforms.Compose([transforms.Resize(256),\n",
        "                                      transforms.CenterCrop(224),\n",
        "                                      transforms.ToTensor(),\n",
        "                                      transforms.Normalize((0.5, 0.5, 0.5), (0.5, 0.5, 0.5))                                    \n",
        "])\n"
      ],
      "execution_count": null,
      "outputs": []
    },
    {
      "cell_type": "code",
      "metadata": {
        "id": "KuauWqRZO-af"
      },
      "source": [
        "import torch\n",
        "\n",
        "from torchvision.datasets import VisionDataset #VisionDataset is a generic dataloader where the samples arranged this way: root/classx/.... .ext, root/classy/.... .ext  and so on                                                                            \n",
        "\n",
        "from PIL import Image\n",
        "\n",
        "import os\n",
        "import os.path\n",
        "import sys\n",
        "\n",
        "\n",
        "def pil_loader(path):\n",
        "    # open path as file to avoid ResourceWarning (https://github.com/python-pillow/Pillow/issues/835)\n",
        "    with open(path, 'rb') as f:\n",
        "        img = Image.open(f)\n",
        "        return img.convert('RGB')\n",
        "\n",
        "class Caltech(VisionDataset):\n",
        "  #split='train'\n",
        "    def __init__(self, root, split, transform=None, target_transform=None):\n",
        "        super(Caltech, self).__init__(root, transform=transform, target_transform=target_transform)\n",
        "\n",
        "        self.split = split # This defines the split you are going to use\n",
        "                           # (split files are called 'train.txt' and 'test.txt')\n",
        "\n",
        "\n",
        "        # Here you should implement the logic for reading the splits files and accessing elements\n",
        "        # If the RAM size allows it, it is faster to store all data in memory\n",
        "        # PyTorch Dataset classes use indexes to read elements\n",
        "        # You should provide a way for the __getitem__ method to access the image-label pair\n",
        "        # through the index\n",
        "        # Labels should start from 0, so for Caltech you will have lables 0...100 (excluding the background class) \n",
        "\n",
        "\n",
        "        # Open file in read only mode and read all lines\n",
        "        file = open(self.split, \"r\")\n",
        "        lines = file.readlines()\n",
        "\n",
        "        # identify BACKGROUND class \n",
        "        self.elements = [i for i in lines if not i.startswith('BACKGROUND_Google')]\n",
        "\n",
        "        # Delete BACKGROUND_Google class from dataset labels\n",
        "        self.classes = sorted(os.listdir(os.path.join(self.root, \"\")))\n",
        "        self.classes.remove(\"BACKGROUND_Google\")     \n",
        "\n",
        "    def __getitem__(self, index):\n",
        "        # image, label = \n",
        "        #Provide a way to access image and label via index              \n",
        "        # Image should be a PIL Image\n",
        "        # label can be int\n",
        "        img = pil_loader(os.path.join(self.root, self.elements[index].rstrip()))\n",
        "        target = self.classes.index(self.elements[index].rstrip().split('/')[0])\n",
        "        image, label = img, target  \n",
        "        # Applies preprocessing when accessing the image\n",
        "        if self.transform is not None:\n",
        "            image = self.transform(image)\n",
        "        return image, label\n",
        "\n",
        "    def __len__(self):\n",
        "        length =  len(self.elements) # Provide a way to get the length (number of elements) of the dataset\n",
        "        return length\n"
      ],
      "execution_count": null,
      "outputs": []
    },
    {
      "cell_type": "markdown",
      "metadata": {
        "id": "AWZPl-H3cheG"
      },
      "source": [
        "#1- Split method claiming insure data balance"
      ]
    },
    {
      "cell_type": "markdown",
      "metadata": {
        "id": "CILkSZtFqecC"
      },
      "source": [
        "Current answers do random splits which has disadvantage that number of samples per class is not guaranteed to be balanced. This is especially problematic when you want to have small number of samples per class. For example, MNIST has 60,000 examples, i.e. 6000 per digit. Assume that you want only 30 examples per digit in your training set. In this case, random split may produce imbalance between classes (one digit with more training data then others). So you want to make sure each digit precisely has only 30 labels. This is called stratified sampling.\n",
        "\n",
        "One way to do this is using sampler interface in Pytorch and sample code is here\n",
        "https://github.com/ncullen93/torchsample/blob/master/torchsample/samplers.py#L22\n",
        "\n",
        "\n",
        "Another way to do this is just hack your way through :). For example, below is simple implementation for MNIST where ds is MNIST dataset and k is number of samples needed for each class."
      ]
    },
    {
      "cell_type": "code",
      "metadata": {
        "id": "HZ7Q-lcqqdeY"
      },
      "source": [
        "def sampleFromClass(ds, k):\n",
        "    class_counts = {}\n",
        "    train_data = []\n",
        "    train_label = []\n",
        "    test_data = []\n",
        "    test_label = []\n",
        "    for data, label in ds:\n",
        "        c = label.item()\n",
        "        class_counts[c] = class_counts.get(c, 0) + 1\n",
        "        if class_counts[c] <= k:\n",
        "            train_data.append(data)\n",
        "            train_label.append(torch.unsqueeze(label, 0))\n",
        "        else:\n",
        "            test_data.append(data)\n",
        "            test_label.append(torch.unsqueeze(label, 0))\n",
        "    train_data = torch.cat(train_data)\n",
        "    for ll in train_label:\n",
        "        print(ll)\n",
        "    train_label = torch.cat(train_label)\n",
        "    test_data = torch.cat(test_data)\n",
        "    test_label = torch.cat(test_label)\n",
        "\n",
        "    return (TensorDataset(train_data, train_label), \n",
        "        TensorDataset(test_data, test_label))\n",
        "\n",
        "#then you can use this function    \n",
        "def main():\n",
        "    train_ds = datasets.MNIST('../data', train=True, download=True,\n",
        "                       transform=transforms.Compose([\n",
        "                           transforms.ToTensor()\n",
        "                       ]))\n",
        "    train_ds, test_ds = sampleFromClass(train_ds, 3)"
      ],
      "execution_count": null,
      "outputs": []
    },
    {
      "cell_type": "markdown",
      "metadata": {
        "id": "2qYIHPzYLY7i"
      },
      "source": [
        "**Prepare Dataset**"
      ]
    },
    {
      "cell_type": "code",
      "metadata": {
        "id": "QfVq_uDHLbsR",
        "colab": {
          "base_uri": "https://localhost:8080/",
          "height": 51
        },
        "outputId": "1daf0676-4508-4a97-ffe4-033fe1d191b0"
      },
      "source": [
        "#1- ETL load inside loop later to iterate over batch size \n",
        "\n",
        "# Clone github repository with data\n",
        "if not os.path.isdir('./Homework2-Caltech101'):\n",
        "  !git clone https://github.com/MachineLearning2020/Homework2-Caltech101.git\n",
        "\n",
        "DATA_DIR = 'Homework2-Caltech101/101_ObjectCategories'\n",
        "SPLIT_TRAIN = 'Homework2-Caltech101/train.txt'\n",
        "SPLIT_TEST = 'Homework2-Caltech101/test.txt'\n",
        "\n",
        "\n",
        "# Prepare Pytorch train/test Datasets\n",
        "train_dataset = Caltech(DATA_DIR, split = SPLIT_TRAIN, transform=train_transform) #torchvision.datasets.ImageFolder(DATA_DIR, transform=train_transform)\n",
        "\n",
        "val_dataset = Caltech(DATA_DIR, split = SPLIT_TRAIN, transform=val_transform) #torchvision.datasets.ImageFolder(DATA_DIR, transform=train_transform)\n",
        "\n",
        "\n",
        "# of course if i wanted to use caltech directly without modifying i should have done 2 things\n",
        "#from torchvision import datasets\n",
        "#train_datasets=datasets.Caltech('',train=True, download=True, transform=...)\n",
        "\n",
        "\n",
        "test_dataset = Caltech(DATA_DIR, split = SPLIT_TEST, transform=eval_transform) #torchvision.datasets.ImageFolder(DATA_DIR, transform=eval_transform)\n",
        "\n",
        "\n",
        "#new approach to just use sikitlearn for train val split\n",
        "#X = train_dataset.images\n",
        "#y = np.random.randint(0, 10, size=1000)\n",
        "\n",
        "#X_train, X_val, y_train, y_val = train_test_split(X, y, test_size=0.1, stratify=y)\n",
        "#np.unique(y_train, return_counts=True)\n",
        "#np.unique(y_val, return_counts=True)\n",
        "\n",
        "#train_dataset = Dataset(X_train, y_train, ...)\n",
        "#train_loader = DataLoader(train_dataset, ...)\n",
        "\n",
        "\n",
        "#template\n",
        "#train_indexes = [idx for idx in range(len(train_dataset)) if idx % 5] #len(train_dataset) gives number of images in the dataset\n",
        "#test_indexes = [idx for idx in range(len(test_dataset)) if not idx % 5]\n",
        "\n",
        "#train_dataset = Subset(train_dataset, train_indexes)\n",
        "#test_dataset = Subset(test_dataset, test_indexes)\n",
        "\n",
        "# Check dataset sizes\n",
        "print('Train Dataset: {}'.format(len(train_dataset)))\n",
        "print('Test Dataset: {}'.format(len(test_dataset)))"
      ],
      "execution_count": null,
      "outputs": [
        {
          "output_type": "stream",
          "text": [
            "Train Dataset: 5784\n",
            "Test Dataset: 2893\n"
          ],
          "name": "stdout"
        }
      ]
    },
    {
      "cell_type": "code",
      "metadata": {
        "id": "TvFRgiABkiaS",
        "colab": {
          "base_uri": "https://localhost:8080/",
          "height": 34
        },
        "outputId": "2c7037f7-ae4d-4ba3-a08a-00ae35d5e5b9"
      },
      "source": [
        "#1.1 explore data\n",
        "len(train_dataset)"
      ],
      "execution_count": null,
      "outputs": [
        {
          "output_type": "execute_result",
          "data": {
            "text/plain": [
              "5784"
            ]
          },
          "metadata": {
            "tags": []
          },
          "execution_count": 8
        }
      ]
    },
    {
      "cell_type": "code",
      "metadata": {
        "id": "W7kAnFdAqSWW",
        "colab": {
          "base_uri": "https://localhost:8080/",
          "height": 34
        },
        "outputId": "3c52a362-ee06-42e8-887a-70dc398369e1"
      },
      "source": [
        "#balance\n",
        "#train_dataset.targets.bincount()\n",
        "len(train_dataset.classes)"
      ],
      "execution_count": null,
      "outputs": [
        {
          "output_type": "execute_result",
          "data": {
            "text/plain": [
              "101"
            ]
          },
          "metadata": {
            "tags": []
          },
          "execution_count": 13
        }
      ]
    },
    {
      "cell_type": "code",
      "metadata": {
        "id": "w6Ukfln7qkdS",
        "colab": {
          "base_uri": "https://localhost:8080/",
          "height": 34
        },
        "outputId": "076646f9-4c58-4c7f-a209-b060ece6bb86"
      },
      "source": [
        "#accessing data sample\n",
        "sample = next(iter(train_dataset))\n",
        "len(sample) #=feat+label"
      ],
      "execution_count": null,
      "outputs": [
        {
          "output_type": "execute_result",
          "data": {
            "text/plain": [
              "2"
            ]
          },
          "metadata": {
            "tags": []
          },
          "execution_count": 15
        }
      ]
    },
    {
      "cell_type": "code",
      "metadata": {
        "id": "rm8mRGjKDouD",
        "colab": {
          "base_uri": "https://localhost:8080/",
          "height": 34
        },
        "outputId": "2dc6d4f0-87fe-495e-dc9a-6c4fe123d5b1"
      },
      "source": [
        "print(type(sample)) #tuple\n",
        "image,label=sample #image=sample[0] label=..."
      ],
      "execution_count": null,
      "outputs": [
        {
          "output_type": "stream",
          "text": [
            "<class 'tuple'>\n"
          ],
          "name": "stdout"
        }
      ]
    },
    {
      "cell_type": "code",
      "metadata": {
        "id": "xCx-R23_qxr5",
        "colab": {
          "base_uri": "https://localhost:8080/",
          "height": 34
        },
        "outputId": "c8dee285-2078-47bf-fe34-b04bf464dc42"
      },
      "source": [
        "image.shape\n"
      ],
      "execution_count": null,
      "outputs": [
        {
          "output_type": "execute_result",
          "data": {
            "text/plain": [
              "torch.Size([3, 224, 224])"
            ]
          },
          "metadata": {
            "tags": []
          },
          "execution_count": 20
        }
      ]
    },
    {
      "cell_type": "code",
      "metadata": {
        "id": "yUWVkmctEGOE",
        "colab": {
          "base_uri": "https://localhost:8080/",
          "height": 34
        },
        "outputId": "33c3da02-b113-4d0d-80af-4c8c0b26a3b1"
      },
      "source": [
        "print(type(label))"
      ],
      "execution_count": null,
      "outputs": [
        {
          "output_type": "stream",
          "text": [
            "<class 'int'>\n"
          ],
          "name": "stdout"
        }
      ]
    },
    {
      "cell_type": "code",
      "metadata": {
        "id": "HOE5WAUIHdXT",
        "colab": {
          "base_uri": "https://localhost:8080/",
          "height": 286
        },
        "outputId": "c5879087-e39a-4fe3-b5b1-4ef4b671d6c4"
      },
      "source": [
        "#plot image HW\n",
        "import numpy as np\n",
        "import matplotlib.pyplot as plt\n",
        "\n",
        "plt.imshow(np.transpose(image.numpy(), (1, 2, 0)))\n",
        "plt.show()"
      ],
      "execution_count": null,
      "outputs": [
        {
          "output_type": "stream",
          "text": [
            "Clipping input data to the valid range for imshow with RGB data ([0..1] for floats or [0..255] for integers).\n"
          ],
          "name": "stderr"
        },
        {
          "output_type": "display_data",
          "data": {
            "image/png": "[encoded data removed]",
            "text/plain": [
              "<Figure size 432x288 with 1 Axes>"
            ]
          },
          "metadata": {
            "tags": [],
            "needs_background": "light"
          }
        }
      ]
    },
    {
      "cell_type": "code",
      "metadata": {
        "id": "v2mJhUgfIcII"
      },
      "source": [
        "#plot image (deeplizard)\n",
        "plt.imshow(image.squeeze(), cmap=\"gray\")\n",
        "torch.tensor(label)\n",
        "\n",
        "#to show image of the data (youtube)\n",
        "import matplotlib.pyplot as plt\n",
        "plt.imshow(train_dataset[0][0].view(200,300))\n",
        "plt.show()"
      ],
      "execution_count": null,
      "outputs": []
    },
    {
      "cell_type": "code",
      "metadata": {
        "id": "B7nQqGbTseFD",
        "colab": {
          "base_uri": "https://localhost:8080/",
          "height": 85
        },
        "outputId": "e0f6a8b9-3af7-4a81-d17f-2ac0ded64a59"
      },
      "source": [
        "#accessing batch\n",
        "\n",
        "display_loader = torch.utils.data.DataLoader(train_dataset, batch_size=10)\n",
        "# note that each batch will be different when shuffle=True The shuffle functionality is turned off by default\n",
        "\n",
        "\n",
        "batch = next(iter(display_loader))\n",
        "print('len:', len(batch))\n",
        "\n",
        "images, labels = batch\n",
        "print('types:', type(images), type(labels))\n",
        "print('images shape:', images.shape)#4D   but images[0].shape 3D\n",
        "print('labels shape:', labels.shape)#1D of length=labels.shape\n",
        "\n",
        "#show whole batch of images\n",
        "grid=torchvision.utils.make_grid(images,nrow=10)\n",
        "plt.figure()\n",
        "plt.imshow(np.transpose(grid,(1,2,0))) #or plt.imshow(grid.permute(1,2,0))\n",
        "print('labels:',labels)"
      ],
      "execution_count": null,
      "outputs": [
        {
          "output_type": "stream",
          "text": [
            "len: 2\n",
            "types: <class 'torch.Tensor'> <class 'torch.Tensor'>\n",
            "images shape: torch.Size([10, 3, 224, 224])\n",
            "labels shape: torch.Size([10])\n"
          ],
          "name": "stdout"
        }
      ]
    },
    {
      "cell_type": "code",
      "metadata": {
        "id": "Hbm6GOdkwa1k"
      },
      "source": [
        "##another way to plot using DataLoader this time\n",
        "#how_many_to_plot = 20\n",
        "#train_loader = torch.utils.data.DataLoader(train_set, batch_size=1, shuffle=True)\n",
        "#plt.figure(figsize=(50,50))\n",
        "#for i, batch in enumerate(train_loader, start=1):\n",
        "#    image, label = batch\n",
        "#    plt.subplot(10,10,i)\n",
        "#    plt.imshow(image.reshape(28,28), cmap='gray')\n",
        "#    plt.axis('off')\n",
        "#    plt.title(train_set.classes[label.item()], fontsize=28)\n",
        "#    if (i >= how_many_to_plot): break\n",
        "#plt.show()"
      ],
      "execution_count": null,
      "outputs": []
    },
    {
      "cell_type": "markdown",
      "metadata": {
        "id": "71WUvD0ud3Dr"
      },
      "source": [
        "# 2- common Randomsampler method\n",
        "\n"
      ]
    },
    {
      "cell_type": "code",
      "metadata": {
        "id": "ZcoQ5fD49yT_"
      },
      "source": [
        "from torch.utils.data.sampler import SubsetRandomSampler\n",
        "import numpy as np\n",
        "\n",
        "valid_size = 0.33\n",
        "shuffle= True\n",
        "random_seed= 42\n",
        "\n",
        "\n",
        "indices = list(range(len(train_dataset)))\n",
        "split = int(np.floor(valid_size * len(train_dataset))) #number of validation samples\n",
        "\n",
        "if shuffle:\n",
        "   np.random.seed(random_seed)\n",
        "   np.random.shuffle(indices)\n",
        "\n",
        "train_idx, valid_idx = indices[split:], indices[:split]\n",
        "train_sampler = SubsetRandomSampler(train_idx)\n",
        "valid_sampler = SubsetRandomSampler(valid_idx)\n",
        "\n"
      ],
      "execution_count": null,
      "outputs": []
    },
    {
      "cell_type": "markdown",
      "metadata": {
        "id": "etOJzT1KdOJk"
      },
      "source": [
        "# 3- sklearn train-test-split"
      ]
    },
    {
      "cell_type": "markdown",
      "metadata": {
        "id": "W7lc1xxrCM_U"
      },
      "source": [
        "Divide Data into Train, Validation, and Test Set\n",
        "We will divide our entire dataset into a training set, a validation set, and test data. The distribution is as such: 60% data for training, 20% data for validating, and 20% data for testing."
      ]
    },
    {
      "cell_type": "code",
      "metadata": {
        "id": "BVrNx2t_CHtc"
      },
      "source": [
        "(X, x_val , Y, y_val) = train_test_split(train_dataset, labels, \n",
        "                                                    test_size=0.2,  \n",
        "                                                    stratify=labels,\n",
        "                                                    random_state=42)\n",
        " \n",
        "(x_train, x_test, y_train, y_test) = train_test_split(X, Y, \n",
        "                                                    test_size=0.25, \n",
        "                                                    random_state=42)\n",
        " \n",
        "print(f\"x_train examples: {x_train.shape}\\nx_test examples: {x_test.shape}\\nx_val examples: {x_val.shape}\")"
      ],
      "execution_count": null,
      "outputs": []
    },
    {
      "cell_type": "markdown",
      "metadata": {
        "id": "OU9B2Ud9fBji"
      },
      "source": [
        "#4- `RandomSplit`"
      ]
    },
    {
      "cell_type": "code",
      "metadata": {
        "id": "hjKzRy2pcILs"
      },
      "source": [
        "from torch.utils.data import random_split\n",
        "\n",
        "\n",
        "train_size = int(0.67 * len(train_dataset))\n",
        "valid_size = len(train_dataset) - train_size\n",
        "train_dataset, valid_dataset = torch.utils.data.random_split(train_dataset, [train_size, valid_size])"
      ],
      "execution_count": null,
      "outputs": []
    },
    {
      "cell_type": "markdown",
      "metadata": {
        "id": "FYEDQ7Z21ldN"
      },
      "source": [
        "**Prepare Dataloaders**"
      ]
    },
    {
      "cell_type": "code",
      "metadata": {
        "id": "Y5anFok2fMEq"
      },
      "source": [
        "# Dataloaders iterate over pytorch datasets and transparently provide useful functions (e.g. parallelization and shuffling)\n",
        "#train_dataloader = DataLoader(train_dataset, batch_size=BATCH_SIZE, sampler=train_sampler, num_workers=4, drop_last=True)\n",
        "#valid_dataloader = DataLoader(train_dataset, batch_size=BATCH_SIZE, sampler=valid_sampler, num_workers=4, drop_last=True)\n",
        "test_dataloader = DataLoader(test_dataset, batch_size=BATCH_SIZE, shuffle=False, num_workers=4)\n",
        "\n",
        "#ValueError: sampler option is mutually exclusive with shuffle \n",
        "#(corrected by removing shuffle in dataloader)\n",
        "#does this mean i cant shuffle using this way? so it is disadvantage of it or it is because using sampler imply u already shuffled?"
      ],
      "execution_count": null,
      "outputs": []
    },
    {
      "cell_type": "markdown",
      "metadata": {
        "id": "gbZ1t5Qs2z4j"
      },
      "source": [
        "**Prepare Network**"
      ]
    },
    {
      "cell_type": "code",
      "metadata": {
        "id": "exHUjtXa22DN"
      },
      "source": [
        "net = alexnet() # Loading AlexNet model\n",
        "net.classifier[6] = nn.Linear(4096, NUM_CLASSES) # nn.Linear in pytorch is a fully connected layer\n",
        "                                                 # The convolutional layer is nn.Conv2d\n",
        "\n",
        "# We just changed the last layer of AlexNet with a new fully connected layer with 101 outputs\n",
        "# It is mandatory to study torchvision.models.alexnet source code"
      ],
      "execution_count": null,
      "outputs": []
    },
    {
      "cell_type": "markdown",
      "metadata": {
        "id": "KEyL3H_R4qCf"
      },
      "source": [
        "**Prepare Training**"
      ]
    },
    {
      "cell_type": "code",
      "metadata": {
        "id": "9sjq00G94tSc"
      },
      "source": [
        "# Define loss function\n",
        "criterion = nn.CrossEntropyLoss() # for classification, we use Cross Entropy"
      ],
      "execution_count": null,
      "outputs": []
    },
    {
      "cell_type": "code",
      "metadata": {
        "id": "4-SsXmXUAzgX"
      },
      "source": [
        "#nice code\n",
        "if torch.cuda.is_available():\n",
        "    device = 'cuda'\n",
        "else:\n",
        "    device = 'cpu'    "
      ],
      "execution_count": null,
      "outputs": []
    },
    {
      "cell_type": "markdown",
      "metadata": {
        "id": "AxYUli9d9uYQ"
      },
      "source": [
        "**Train**"
      ]
    },
    {
      "cell_type": "code",
      "metadata": {
        "id": "3-CTBdN9wmLG",
        "colab": {
          "base_uri": "https://localhost:8080/",
          "height": 1000
        },
        "outputId": "8ea64eac-6de9-4562-f887-5447449d8030"
      },
      "source": [
        "total_loss = 0\n",
        "current_step = 0\n",
        "\n",
        "criterion_val = nn.CrossEntropyLoss(reduction='sum')\n",
        "\n",
        "net = net.to(DEVICE) # this will bring the network to GPU if DEVICE is cuda\n",
        "cudnn.benchmark # Calling this optimizes runtime\n",
        "batch_size_list = [100]\n",
        "LR_list = [5e-3]\n",
        "\n",
        "\n",
        "losses_train = []\n",
        "losses_val = []\n",
        "accuracies_val = []\n",
        "accuracies_train = []\n",
        "\n",
        "\n",
        "for BATCH_SIZE in batch_size_list:\n",
        "    for LR in LR_list:\n",
        "        #net = net\n",
        "        #train_loader,val_loader = get_train_valid_loader(train_dataset,\n",
        "        #                   BATCH_SIZE,  #                           augment,\n",
        "        #                   valid_size=0.9,\n",
        "        #                   shuffle=True,\n",
        "        #                   show_sample=False,\n",
        "        #                   num_workers=4,\n",
        "        #                   pin_memory=False) #torch.utils.data.DataLoader(train_dataset, batch_size=BATCH_SIZE, shuffle=True, num_workers=4, drop_last=True)\n",
        "                \n",
        "        #Randomsampler\n",
        "        train_loader = torch.utils.data.DataLoader(train_dataset, batch_size=BATCH_SIZE, sampler=train_sampler,num_workers=4, drop_last=True)\n",
        "        valid_loader = torch.utils.data.DataLoader(train_dataset, batch_size=BATCH_SIZE, sampler=valid_sampler, num_workers=4)\n",
        "       \n",
        "        #RandomSplit\n",
        "        #train_loader = torch.utils.data.DataLoader(train_dataset, batch_size=BATCH_SIZE,shuffle=True, num_workers=4, drop_last=True)\n",
        "        #valid_loader = torch.utils.data.DataLoader(valid_dataset, batch_size=BATCH_SIZE, shuffle=False, num_workers=4)\n",
        "\n",
        "        optimizer = optim.SGD(net.parameters(), lr=LR, momentum=MOMENTUM, weight_decay=WEIGHT_DECAY)\n",
        "        scheduler = optim.lr_scheduler.StepLR(optimizer, step_size=STEP_SIZE, gamma=GAMMA)\n",
        "        for epoch in range(NUM_EPOCHS):\n",
        "            total_loss = 0\n",
        "            print('\\n Starting epoch {}/{}, LR = {}, batch size= {}'.format(epoch+1, NUM_EPOCHS, scheduler.get_lr(), BATCH_SIZE))\n",
        "            for images, labels in train_loader:\n",
        "                images = images.to(DEVICE)\n",
        "                labels = labels.to(DEVICE)\n",
        "                net.train() #actually this is old latest pytorch versions net.zero_grad is enough instead of net.train()+optimizer.zero_grad() \n",
        "                optimizer.zero_grad() #1 # we need to set the gradients to zero before starting to do backpropragation because PyTorch accumulates the gradients on subsequent backward passes\n",
        "                outputs = net(images) #2\n",
        "                loss = criterion(outputs, labels)  #3\n",
        "                if (current_step % 30 == 0):\n",
        "                    print('Step {}, Loss {}'.format(current_step, loss.item()))\n",
        "                loss.backward()  #4 # backward pass: computes gradients\n",
        "                optimizer.step() #5 # update weights based on accumulated gradients\n",
        "                current_step += 1\n",
        "                #total_loss += loss.item() * BATCH_SIZE\n",
        "                #print('Loss', total_loss)\n",
        "            \n",
        "            net.train(False)\n",
        "            running_corrects_val = 0\n",
        "            cum_loss_val = 0\n",
        "\n",
        "            #for images_val, labels_val in tqdm(val_dataloader):\n",
        "            for images_val, labels_val in valid_loader:\n",
        "                images_val = images_val.to(DEVICE)\n",
        "                labels_val = labels_val.to(DEVICE)\n",
        "\n",
        "                # Forward Pass\n",
        "                outputs_val = net(images_val)\n",
        "\n",
        "                cum_loss_val += criterion_val(outputs_val, labels_val).item()\n",
        "\n",
        "                # Get predictions\n",
        "                _, preds = torch.max(outputs_val.data, 1)\n",
        "\n",
        "                # Update Corrects\n",
        "                running_corrects_val += torch.sum(preds == labels_val.data).data.item() \n",
        "\n",
        "            accuracy_val = running_corrects_val / float(len(valid_dataset))\n",
        "            loss_val = cum_loss_val / float(len(valid_dataset))\n",
        "\n",
        "            losses_val.append(loss_val)\n",
        "            accuracies_val.append(accuracy_val)\n",
        "    \n",
        "            print('Loss on val:', loss_val)\n",
        "            print('Accuracy on val:', accuracy_val)    \n",
        "            scheduler.step() #originally changes only every epoch not every image"
      ],
      "execution_count": null,
      "outputs": [
        {
          "output_type": "stream",
          "text": [
            "\n",
            " Starting epoch 1/30, LR = [0.005], batch size= 100\n"
          ],
          "name": "stdout"
        },
        {
          "output_type": "stream",
          "text": [
            "/usr/local/lib/python3.6/dist-packages/torch/optim/lr_scheduler.py:351: UserWarning: To get the last learning rate computed by the scheduler, please use `get_last_lr()`.\n",
            "  \"please use `get_last_lr()`.\", UserWarning)\n"
          ],
          "name": "stderr"
        },
        {
          "output_type": "stream",
          "text": [
            "Step 0, Loss 1.4885042905807495\n",
            "Step 30, Loss 1.3003547191619873\n",
            "Loss on val: 1.8275183797069967\n",
            "Accuracy on val: 0.5615505500261917\n",
            "\n",
            " Starting epoch 2/30, LR = [0.005], batch size= 100\n",
            "Step 60, Loss 1.4063780307769775\n",
            "Loss on val: 1.8580271669430781\n",
            "Accuracy on val: 0.5552645364064955\n",
            "\n",
            " Starting epoch 3/30, LR = [0.005], batch size= 100\n",
            "Step 90, Loss 1.1622223854064941\n",
            "Loss on val: 1.8321609586992458\n",
            "Accuracy on val: 0.5610267155578837\n",
            "\n",
            " Starting epoch 4/30, LR = [0.005], batch size= 100\n",
            "Step 120, Loss 1.1991392374038696\n",
            "Step 150, Loss 1.2340301275253296\n",
            "Loss on val: 1.8514293620197981\n",
            "Accuracy on val: 0.5526453640649555\n",
            "\n",
            " Starting epoch 5/30, LR = [0.005], batch size= 100\n",
            "Step 180, Loss 1.240157127380371\n",
            "Loss on val: 1.8792727232104263\n",
            "Accuracy on val: 0.5599790466212676\n",
            "\n",
            " Starting epoch 6/30, LR = [0.005], batch size= 100\n",
            "Step 210, Loss 0.8128350973129272\n",
            "Loss on val: 1.9143389356642133\n",
            "Accuracy on val: 0.5646935568360398\n",
            "\n",
            " Starting epoch 7/30, LR = [0.005], batch size= 100\n",
            "Step 240, Loss 0.8942797183990479\n",
            "Loss on val: 1.972130349320601\n",
            "Accuracy on val: 0.572027239392352\n",
            "\n",
            " Starting epoch 8/30, LR = [0.005], batch size= 100\n",
            "Step 270, Loss 0.7294613718986511\n",
            "Step 300, Loss 0.4578770399093628\n",
            "Loss on val: 1.9950925403393145\n",
            "Accuracy on val: 0.5845992666317443\n",
            "\n",
            " Starting epoch 9/30, LR = [0.005], batch size= 100\n",
            "Step 330, Loss 0.6433107256889343\n",
            "Loss on val: 2.0313725269171754\n",
            "Accuracy on val: 0.5762179151388162\n",
            "\n",
            " Starting epoch 10/30, LR = [0.005], batch size= 100\n",
            "Step 360, Loss 0.5586811304092407\n",
            "Loss on val: 1.96666784071685\n",
            "Accuracy on val: 0.5783132530120482\n",
            "\n",
            " Starting epoch 11/30, LR = [0.005], batch size= 100\n",
            "Step 390, Loss 0.6411598324775696\n",
            "Loss on val: 2.0693531086333703\n",
            "Accuracy on val: 0.5898376113148245\n",
            "\n",
            " Starting epoch 12/30, LR = [0.005], batch size= 100\n",
            "Step 420, Loss 0.3829501271247864\n",
            "Step 450, Loss 0.6458563804626465\n",
            "Loss on val: 2.212340011716576\n",
            "Accuracy on val: 0.5772655840754322\n",
            "\n",
            " Starting epoch 13/30, LR = [0.005], batch size= 100\n",
            "Step 480, Loss 0.3456277549266815\n",
            "Loss on val: 2.254824629874052\n",
            "Accuracy on val: 0.5715034049240441\n",
            "\n",
            " Starting epoch 14/30, LR = [0.005], batch size= 100\n",
            "Step 510, Loss 0.29193589091300964\n",
            "Loss on val: 2.3426961968743156\n",
            "Accuracy on val: 0.5872184389732844\n",
            "\n",
            " Starting epoch 15/30, LR = [0.005], batch size= 100\n",
            "Step 540, Loss 0.28847014904022217\n",
            "Loss on val: 2.5180217209381857\n",
            "Accuracy on val: 0.572027239392352\n",
            "\n",
            " Starting epoch 16/30, LR = [0.005], batch size= 100\n",
            "Step 570, Loss 0.2467721551656723\n",
            "Step 600, Loss 0.3703429400920868\n",
            "Loss on val: 2.39638174036025\n",
            "Accuracy on val: 0.5840754321634364\n",
            "\n",
            " Starting epoch 17/30, LR = [0.005], batch size= 100\n",
            "Step 630, Loss 0.31328481435775757\n",
            "Loss on val: 2.410171219039925\n",
            "Accuracy on val: 0.5830277632268204\n",
            "\n",
            " Starting epoch 18/30, LR = [0.005], batch size= 100\n",
            "Step 660, Loss 0.11008361726999283\n",
            "Loss on val: 2.4845155017921723\n",
            "Accuracy on val: 0.5861707700366684\n",
            "\n",
            " Starting epoch 19/30, LR = [0.005], batch size= 100\n",
            "Step 690, Loss 0.35337457060813904\n",
            "Step 720, Loss 0.1676214337348938\n",
            "Loss on val: 2.4765906875954053\n",
            "Accuracy on val: 0.5814562598218963\n",
            "\n",
            " Starting epoch 20/30, LR = [0.005], batch size= 100\n",
            "Step 750, Loss 0.21729955077171326\n",
            "Loss on val: 2.540888663765771\n",
            "Accuracy on val: 0.5783132530120482\n",
            "\n",
            " Starting epoch 21/30, LR = [5e-05], batch size= 100\n",
            "Step 780, Loss 0.18847709894180298\n",
            "Loss on val: 2.432862603021205\n",
            "Accuracy on val: 0.6039811419591409\n",
            "\n",
            " Starting epoch 22/30, LR = [0.0005], batch size= 100\n",
            "Step 810, Loss 0.04672863334417343\n",
            "Loss on val: 2.4244762268785784\n",
            "Accuracy on val: 0.6029334730225249\n",
            "\n",
            " Starting epoch 23/30, LR = [0.0005], batch size= 100\n",
            "Step 840, Loss 0.03888081759214401\n",
            "Step 870, Loss 0.030755314975976944\n",
            "Loss on val: 2.4825936652653624\n",
            "Accuracy on val: 0.6034573074908329\n",
            "\n",
            " Starting epoch 24/30, LR = [0.0005], batch size= 100\n",
            "Step 900, Loss 0.008799336850643158\n",
            "Loss on val: 2.4900508878616963\n",
            "Accuracy on val: 0.6107909900471451\n",
            "\n",
            " Starting epoch 25/30, LR = [0.0005], batch size= 100\n",
            "Step 930, Loss 0.0196743942797184\n",
            "Loss on val: 2.5309491025146356\n",
            "Accuracy on val: 0.608171817705605\n",
            "\n",
            " Starting epoch 26/30, LR = [0.0005], batch size= 100\n",
            "Step 960, Loss 0.06903733313083649\n",
            "Loss on val: 2.5423710594756743\n",
            "Accuracy on val: 0.6107909900471451\n",
            "\n",
            " Starting epoch 27/30, LR = [0.0005], batch size= 100\n",
            "Step 990, Loss 0.04327133670449257\n",
            "Step 1020, Loss 0.04637268930673599\n",
            "Loss on val: 2.550973849249111\n",
            "Accuracy on val: 0.6086956521739131\n",
            "\n",
            " Starting epoch 28/30, LR = [0.0005], batch size= 100\n",
            "Step 1050, Loss 0.023181257769465446\n",
            "Loss on val: 2.5767422281927685\n",
            "Accuracy on val: 0.6118386589837611\n",
            "\n",
            " Starting epoch 29/30, LR = [0.0005], batch size= 100\n",
            "Step 1080, Loss 0.020506475120782852\n",
            "Loss on val: 2.6334779558536456\n",
            "Accuracy on val: 0.6123624934520692\n",
            "\n",
            " Starting epoch 30/30, LR = [0.0005], batch size= 100\n",
            "Step 1110, Loss 0.009354347363114357\n",
            "Loss on val: 2.625838355408594\n",
            "Accuracy on val: 0.610267155578837\n"
          ],
          "name": "stdout"
        }
      ]
    },
    {
      "cell_type": "markdown",
      "metadata": {
        "id": "UsHFI-GAJd69"
      },
      "source": [
        "**Test**"
      ]
    },
    {
      "cell_type": "code",
      "metadata": {
        "id": "DFBdxDxJMH7L"
      },
      "source": [
        ""
      ],
      "execution_count": null,
      "outputs": []
    },
    {
      "cell_type": "code",
      "metadata": {
        "id": "VriRw8SI1nle"
      },
      "source": [
        "test_dataloader = DataLoader(test_dataset, batch_size=BATCH_SIZE, shuffle=False, num_workers=4)"
      ],
      "execution_count": null,
      "outputs": []
    },
    {
      "cell_type": "code",
      "metadata": {
        "id": "Wp9k_DbiYIke"
      },
      "source": [
        "#try this code for validation\n",
        "correct=0\n",
        "total=0\n",
        "\n",
        "with torch.no_grad():\n",
        "  for images, labels in train_loader:\n",
        "    images = images.to(DEVICE)\n",
        "    labels = labels.to(DEVICE)\n",
        "    outputs = net(images) #2\n",
        "    for idx,i in enumerate(outputs):\n",
        "      if torch.argmax(i) == labels[idx]:\n",
        "        correct+=1\n",
        "      total+=1\n",
        "\n",
        "print(\"accuracy\", round(correct/total,3))"
      ],
      "execution_count": null,
      "outputs": []
    },
    {
      "cell_type": "code",
      "metadata": {
        "id": "mw6YAvOXCtFO"
      },
      "source": [
        "import matplotlib.pyplot as plt\n",
        "plt.imshow(images[0].view(28,28))\n",
        "plt.show()"
      ],
      "execution_count": null,
      "outputs": []
    },
    {
      "cell_type": "markdown",
      "metadata": {
        "id": "rxvgPQu_L4Bn"
      },
      "source": [
        ""
      ]
    },
    {
      "cell_type": "code",
      "metadata": {
        "id": "Cm3A8LeYDOvL"
      },
      "source": [
        "print(torch.argmax(net(images[0].view(-1,784))[0])) #presdiction of first image"
      ],
      "execution_count": null,
      "outputs": []
    },
    {
      "cell_type": "code",
      "metadata": {
        "id": "EO3HV5pqJg1o",
        "colab": {
          "base_uri": "https://localhost:8080/",
          "height": 53
        },
        "outputId": "81c5376f-b895-4316-913d-fce82537fdc8"
      },
      "source": [
        "net = net.to(DEVICE) # this will bring the network to GPU if DEVICE is cuda\n",
        "net.train(False) # Set Network to evaluation mode\n",
        "\n",
        "running_corrects = 0\n",
        "for images, labels in tqdm(test_dataloader):\n",
        "  images = images.to(DEVICE)\n",
        "  labels = labels.to(DEVICE)\n",
        "\n",
        "  # Forward Pass\n",
        "  outputs = net(images)\n",
        "\n",
        "  # Get predictions\n",
        "  _, preds = torch.max(outputs.data, 1)\n",
        "\n",
        "  # Update Corrects\n",
        "  running_corrects += torch.sum(preds == labels.data).data.item()\n",
        "\n",
        "# Calculate Accuracy\n",
        "accuracy = running_corrects / float(len(test_dataset))\n",
        "\n",
        "print('Test Accuracy: {}'.format(accuracy))"
      ],
      "execution_count": null,
      "outputs": [
        {
          "output_type": "stream",
          "text": [
            "100%|██████████| 3/3 [00:10<00:00,  4.86s/it]"
          ],
          "name": "stderr"
        },
        {
          "output_type": "stream",
          "text": [
            "Test Accuracy: 0.09194607673695127\n"
          ],
          "name": "stdout"
        },
        {
          "output_type": "stream",
          "text": [
            "\n"
          ],
          "name": "stderr"
        }
      ]
    }
  ]
}